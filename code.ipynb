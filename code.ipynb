{
 "cells": [
  {
   "cell_type": "code",
   "execution_count": 1,
   "metadata": {},
   "outputs": [],
   "source": [
    "# Exercise for next week:\n",
    "# A palindromic number reads the same both ways.\n",
    "# The largest palindrome made from the product of two 2-digit numbers is 9009 = 91 × 99.\n",
    "# PE Exercise\n",
    "# Find the largest palindrome made from the product of two 3-digit numbers.\n",
    "# Our Files and Exceptions exercise\n",
    "# Ask the user for a filename.\n",
    "# Read the first line as an integer,\n",
    "# Find the largest palindrome made from the product of two n-digit numbers\n",
    "# Catch any exceptions"
   ]
  },
  {
   "cell_type": "code",
   "execution_count": 2,
   "metadata": {},
   "outputs": [],
   "source": [
    "f = open(\"random.txt\",\"w\")\n",
    "import random\n",
    "f.write(str(random.randrange(5,7)))\n",
    "f.close()"
   ]
  },
  {
   "cell_type": "code",
   "execution_count": 3,
   "metadata": {},
   "outputs": [
    {
     "name": "stdout",
     "output_type": "stream",
     "text": [
      "6\n"
     ]
    }
   ],
   "source": [
    "with open('random.txt','r') as f:\n",
    "    read_data = f.read()\n",
    "    print(read_data)"
   ]
  },
  {
   "cell_type": "code",
   "execution_count": 4,
   "metadata": {},
   "outputs": [],
   "source": [
    "def palfromfile(filename):\n",
    "    with open(filename,'r') as f:\n",
    "        read_data = f.read()\n",
    "        n = int(read_data)\n",
    "    lst_pal=[]\n",
    "    max_pal = 0\n",
    "    for x in range(int(\"9\"*n),int(\"1\"+str(0*n)),-1):\n",
    "        if x*x < max_pal:\n",
    "            break\n",
    "        for y in range(x,int(\"1\"+str(0*n)),-1):\n",
    "            res = y*x\n",
    "            if res < max_pal:\n",
    "                break\n",
    "            str_res = str(res)\n",
    "            if (str_res == str_res[::-1]):\n",
    "                if res > max_pal:\n",
    "                    max_pal = res\n",
    "                break\n",
    "    return(max_pal)"
   ]
  },
  {
   "cell_type": "code",
   "execution_count": 5,
   "metadata": {},
   "outputs": [],
   "source": [
    "import time"
   ]
  },
  {
   "cell_type": "code",
   "execution_count": 6,
   "metadata": {
    "scrolled": false
   },
   "outputs": [
    {
     "name": "stdout",
     "output_type": "stream",
     "text": [
      "999000000999\n"
     ]
    },
    {
     "data": {
      "text/plain": [
       "0.11461639404296875"
      ]
     },
     "execution_count": 6,
     "metadata": {},
     "output_type": "execute_result"
    }
   ],
   "source": [
    "start = time.time()\n",
    "print(palfromfile(\"random.txt\"))\n",
    "elapse = time.time() - start\n",
    "elapse"
   ]
  }
 ],
 "metadata": {
  "kernelspec": {
   "display_name": "Python 3",
   "language": "python",
   "name": "python3"
  },
  "language_info": {
   "codemirror_mode": {
    "name": "ipython",
    "version": 3
   },
   "file_extension": ".py",
   "mimetype": "text/x-python",
   "name": "python",
   "nbconvert_exporter": "python",
   "pygments_lexer": "ipython3",
   "version": "3.8.5"
  }
 },
 "nbformat": 4,
 "nbformat_minor": 4
}
